{
 "cells": [
  {
   "cell_type": "code",
   "execution_count": null,
   "metadata": {},
   "outputs": [],
   "source": [
    "import yfinance as yf\n",
    "import numpy as np\n",
    "from sklearn.preprocessing import MinMaxScaler\n",
    "from tensorflow.keras.models import Sequential\n",
    "from tensorflow.keras.layers import LSTM, Dense\n",
    "\n",
    "print(\"Script Started\")\n",
    "print(\"Data Load Started\")\n",
    "stock_data = yf.download(\"AAPL\", start=\"2020-01-01\", end=\"2023-01-01\")\n",
    "print(\"Data Load Finished\")\n",
    "data = stock_data['Close'].values.reshape(-1, 1)\n",
    "scaler = MinMaxScaler()\n",
    "data_scaled = scaler.fit_transform(data)\n",
    "sequence_length = 60\n",
    "X, y = [], []\n",
    "for i in range(len(data_scaled) - sequence_length):\n",
    "    X.append(data_scaled[i:i+sequence_length])\n",
    "    y.append(data_scaled[i+sequence_length])\n",
    "X, y = np.array(X), np.array(y)\n",
    "print(\"Model Training Started\")\n",
    "model = Sequential([\n",
    "    LSTM(50, return_sequences=True, input_shape=(X.shape[1], 1)),\n",
    "    LSTM(50),\n",
    "    Dense(1)\n",
    "])\n",
    "model.compile(optimizer='adam', loss='mse')\n",
    "model.fit(X, y, epochs=10, batch_size=32)\n",
    "print(\"Model Training Finished\")\n",
    "predicted = model.predict(X)\n",
    "print(\"Script Finished\")\n"
   ]
  }
 ],
 "metadata": {
  "language_info": {
   "name": "python"
  }
 },
 "nbformat": 4,
 "nbformat_minor": 2
}
